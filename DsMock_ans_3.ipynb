{
  "nbformat": 4,
  "nbformat_minor": 0,
  "metadata": {
    "colab": {
      "provenance": [],
      "authorship_tag": "ABX9TyMopy+nB/kJj6PG5m221hk/",
      "include_colab_link": true
    },
    "kernelspec": {
      "name": "python3",
      "display_name": "Python 3"
    },
    "language_info": {
      "name": "python"
    }
  },
  "cells": [
    {
      "cell_type": "markdown",
      "metadata": {
        "id": "view-in-github",
        "colab_type": "text"
      },
      "source": [
        "<a href=\"https://colab.research.google.com/github/RakeshMishra26mgh/DsMock_ans_3/blob/main/DsMock_ans_3.ipynb\" target=\"_parent\"><img src=\"https://colab.research.google.com/assets/colab-badge.svg\" alt=\"Open In Colab\"/></a>"
      ]
    },
    {
      "cell_type": "code",
      "execution_count": null,
      "metadata": {
        "id": "UnSBc6oiN0_S"
      },
      "outputs": [],
      "source": [
        "def calculate_mean(a):\n",
        "  total=sum(a)\n",
        "  count=len(a)\n",
        "  mean=total/count\n",
        "  return mean\n",
        "\n",
        "user_input = input(\"Enter a list of numbers separated by commas: \")\n",
        "user_numbers = [int(n) for n in user_input.split(\",\")]\n",
        "result=calculate_mean(user_numbers)\n",
        "print(\"mean is :\",result)"
      ]
    }
  ]
}